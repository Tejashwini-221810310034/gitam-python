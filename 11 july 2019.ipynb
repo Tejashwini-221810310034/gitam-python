{
 "cells": [
  {
   "cell_type": "code",
   "execution_count": 1,
   "metadata": {},
   "outputs": [
    {
     "name": "stdout",
     "output_type": "stream",
     "text": [
      "enter the file name:file2.txt\n",
      "enter the word:This\n"
     ]
    },
    {
     "data": {
      "text/plain": [
       "10"
      ]
     },
     "execution_count": 1,
     "metadata": {},
     "output_type": "execute_result"
    }
   ],
   "source": [
    "# Data analysis\n",
    "# word count program\n",
    "def wordcount(filename,word):\n",
    "    with open(filename,'r') as f:\n",
    "        if f.mode == 'r':\n",
    "             x = f.read()\n",
    "             li = x.split()\n",
    "    cnt = li.count(word)\n",
    "    return cnt\n",
    "filename = input('enter the file name:')\n",
    "word = input('enter the word:')\n",
    "wordcount(filename,word)"
   ]
  },
  {
   "cell_type": "code",
   "execution_count": 5,
   "metadata": {},
   "outputs": [
    {
     "name": "stdout",
     "output_type": "stream",
     "text": [
      "enter the filename:file2.txt\n"
     ]
    },
    {
     "data": {
      "text/plain": [
       "170"
      ]
     },
     "execution_count": 5,
     "metadata": {},
     "output_type": "execute_result"
    }
   ],
   "source": [
    "# character count from the given file\n",
    "def charcount(filename):\n",
    "    with open(filename) as f:\n",
    "        if f.mode == 'r':\n",
    "            x = f.read()\n",
    "            li = list(x) # Convert the string - char\n",
    "    return len(li)\n",
    "filename = input(\"enter the filename:\")\n",
    "charcount(filename)"
   ]
  },
  {
   "cell_type": "code",
   "execution_count": 6,
   "metadata": {},
   "outputs": [
    {
     "name": "stdout",
     "output_type": "stream",
     "text": [
      "enter the filename :file2.txt\n"
     ]
    },
    {
     "data": {
      "text/plain": [
       "13"
      ]
     },
     "execution_count": 6,
     "metadata": {},
     "output_type": "execute_result"
    }
   ],
   "source": [
    "# Function to find the no. of lines in the input file\n",
    "# Input -- filename(file2.txt)\n",
    "# Output -- No of lines(12)\n",
    "def countoflines(filename):\n",
    "    with open(filename,'r') as f:\n",
    "        if f.mode == 'r':\n",
    "            x = f.read()\n",
    "            li = x.split(\"\\n\")\n",
    "    return len(li)\n",
    "filename = input('enter the filename :')\n",
    "countoflines(filename)"
   ]
  },
  {
   "cell_type": "code",
   "execution_count": 12,
   "metadata": {},
   "outputs": [
    {
     "name": "stdout",
     "output_type": "stream",
     "text": [
      "enter the filename :file2.txt\n"
     ]
    },
    {
     "data": {
      "text/plain": [
       "'upper case = 22 , lower case =92'"
      ]
     },
     "execution_count": 12,
     "metadata": {},
     "output_type": "execute_result"
    }
   ],
   "source": [
    "# Function to print the upper and lower characters\n",
    "def casecount(filename):\n",
    "    cntUpper = 0\n",
    "    cntlower = 0\n",
    "    with open(filename,'r') as f:\n",
    "        if f.mode == 'r':\n",
    "            x = f.read()\n",
    "            li = list(x)\n",
    "    for i in li:\n",
    "        if i.isupper():\n",
    "            cntUpper += 1 #cntUpper = cntUpper+1\n",
    "        elif i.islower():\n",
    "            cntlower += 1 #cntlower = cntlower+1\n",
    "    output = 'upper case = {0} , lower case ={1}' .format(cntUpper,cntlower)\n",
    "    return output\n",
    "filename = input('enter the filename :')\n",
    "casecount(filename)"
   ]
  },
  {
   "cell_type": "markdown",
   "metadata": {},
   "source": [
    "### Math,Random,Os\n",
    "\n",
    "- on package it contains the method which work with os"
   ]
  },
  {
   "cell_type": "code",
   "execution_count": 13,
   "metadata": {},
   "outputs": [
    {
     "name": "stdout",
     "output_type": "stream",
     "text": [
      "05-07-2019.ipynb                 \u001b[0m\u001b[01;34mDesktop\u001b[0m/          \u001b[01;34mPublic\u001b[0m/\r\n",
      "05-07-2019(@).ipynb              \u001b[01;34mDocuments\u001b[0m/        \u001b[01;34mTemplates\u001b[0m/\r\n",
      "06-07-2019.ipynb                 \u001b[01;34mDownloads\u001b[0m/        untitled 5.ipynb\r\n",
      "08-07-2019.ipynb                 examples.desktop  Untitled5.ipynb\r\n",
      "09-07-2019 and 10-07-2019.ipynb  file1.txt         Untitled.ipynb\r\n",
      "11-07-2019.ipynb                 file2.txt         \u001b[01;34mVideos\u001b[0m/\r\n",
      "11 july 2019.ipynb               \u001b[01;34mMusic\u001b[0m/\r\n",
      "\u001b[01;34manaconda3\u001b[0m/                       \u001b[01;34mPictures\u001b[0m/\r\n"
     ]
    }
   ],
   "source": [
    "ls\n"
   ]
  },
  {
   "cell_type": "code",
   "execution_count": 14,
   "metadata": {},
   "outputs": [
    {
     "data": {
      "text/plain": [
       "['Templates',\n",
       " '.mozilla',\n",
       " 'untitled 5.ipynb',\n",
       " 'file1.txt',\n",
       " '.Xauthority',\n",
       " 'Public',\n",
       " '.gnupg',\n",
       " '.local',\n",
       " '.ICEauthority',\n",
       " 'file2.txt',\n",
       " '.xsession-errors.old',\n",
       " '.bash_history',\n",
       " 'Pictures',\n",
       " '.bashrc',\n",
       " '11 july 2019.ipynb',\n",
       " '.config',\n",
       " '.cache',\n",
       " '.ipynb_checkpoints',\n",
       " 'Music',\n",
       " '.compiz',\n",
       " 'Untitled.ipynb',\n",
       " 'Documents',\n",
       " 'Untitled5.ipynb',\n",
       " '.profile',\n",
       " 'Videos',\n",
       " 'Desktop',\n",
       " '.gconf',\n",
       " '11-07-2019.ipynb',\n",
       " 'Downloads',\n",
       " '08-07-2019.ipynb',\n",
       " '05-07-2019.ipynb',\n",
       " '.bash_logout',\n",
       " '.pki',\n",
       " 'examples.desktop',\n",
       " '09-07-2019 and 10-07-2019.ipynb',\n",
       " '06-07-2019.ipynb',\n",
       " '.jupyter',\n",
       " '.xsession-errors',\n",
       " '05-07-2019(@).ipynb',\n",
       " 'anaconda3',\n",
       " '.ipython']"
      ]
     },
     "execution_count": 14,
     "metadata": {},
     "output_type": "execute_result"
    }
   ],
   "source": [
    "import os\n",
    "os.listdir()"
   ]
  },
  {
   "cell_type": "code",
   "execution_count": 17,
   "metadata": {},
   "outputs": [
    {
     "name": "stdout",
     "output_type": "stream",
     "text": [
      "user-dirs.locale\n",
      "mimeapps.list\n",
      "user-dirs.dirs\n"
     ]
    }
   ],
   "source": [
    "import os\n",
    "dirpath = \".config\"\n",
    "for i in os.listdir(dirpath):\n",
    "    if os.path.isfile(os.path.join(dirpath,i)):\n",
    "        print(i)"
   ]
  },
  {
   "cell_type": "code",
   "execution_count": 18,
   "metadata": {},
   "outputs": [
    {
     "name": "stdout",
     "output_type": "stream",
     "text": [
      "ibus\n",
      "pulse\n",
      "gnome-session\n",
      "gtk-3.0\n",
      "ubuntu-ui-toolkit\n",
      "upstart\n",
      "user-dirs.locale\n",
      "libreoffice\n",
      "evolution\n",
      "gedit\n",
      "mimeapps.list\n",
      "user-dirs.dirs\n",
      "nautilus\n",
      "update-notifier\n",
      "libaccounts-glib\n",
      "google-chrome\n",
      "dconf\n",
      "unity\n",
      "compiz-1\n",
      "ubuntu-amazon-default\n"
     ]
    }
   ],
   "source": [
    "li = os.listdir(\".config\")\n",
    "for i in li:\n",
    "    print(i)"
   ]
  },
  {
   "cell_type": "code",
   "execution_count": 19,
   "metadata": {},
   "outputs": [
    {
     "name": "stdout",
     "output_type": "stream",
     "text": [
      "<DirEntry 'ibus'>\n",
      "<DirEntry 'pulse'>\n",
      "<DirEntry 'gnome-session'>\n",
      "<DirEntry 'gtk-3.0'>\n",
      "<DirEntry 'ubuntu-ui-toolkit'>\n",
      "<DirEntry 'upstart'>\n",
      "<DirEntry 'user-dirs.locale'>\n",
      "<DirEntry 'libreoffice'>\n",
      "<DirEntry 'evolution'>\n",
      "<DirEntry 'gedit'>\n",
      "<DirEntry 'mimeapps.list'>\n",
      "<DirEntry 'user-dirs.dirs'>\n",
      "<DirEntry 'nautilus'>\n",
      "<DirEntry 'update-notifier'>\n",
      "<DirEntry 'libaccounts-glib'>\n",
      "<DirEntry 'google-chrome'>\n",
      "<DirEntry 'dconf'>\n",
      "<DirEntry 'unity'>\n",
      "<DirEntry 'compiz-1'>\n",
      "<DirEntry 'ubuntu-amazon-default'>\n"
     ]
    }
   ],
   "source": [
    "li = os.scandir('.config')\n",
    "for i in li:\n",
    "    print(i)"
   ]
  },
  {
   "cell_type": "markdown",
   "metadata": {},
   "source": []
  },
  {
   "cell_type": "markdown",
   "metadata": {},
   "source": [
    "### Listing Subdirectories"
   ]
  },
  {
   "cell_type": "code",
   "execution_count": 20,
   "metadata": {},
   "outputs": [
    {
     "name": "stdout",
     "output_type": "stream",
     "text": [
      "ibus\n",
      "pulse\n",
      "gnome-session\n",
      "gtk-3.0\n",
      "ubuntu-ui-toolkit\n",
      "upstart\n",
      "libreoffice\n",
      "evolution\n",
      "gedit\n",
      "nautilus\n",
      "update-notifier\n",
      "libaccounts-glib\n",
      "google-chrome\n",
      "dconf\n",
      "unity\n",
      "compiz-1\n",
      "ubuntu-amazon-default\n"
     ]
    }
   ],
   "source": [
    "dirpath = '.config'\n",
    "for i in os.listdir(dirpath):\n",
    "    if os.path.isdir(os.path.join(dirpath,i)):\n",
    "        print(i)\n",
    "        "
   ]
  },
  {
   "cell_type": "code",
   "execution_count": 29,
   "metadata": {},
   "outputs": [
    {
     "name": "stdout",
     "output_type": "stream",
     "text": [
      "ibus\n",
      "pulse\n",
      "gnome-session\n",
      "gtk-3.0\n",
      "ubuntu-ui-toolkit\n",
      "upstart\n",
      "libreoffice\n",
      "evolution\n",
      "gedit\n",
      "nautilus\n",
      "update-notifier\n",
      "libaccounts-glib\n",
      "google-chrome\n",
      "dconf\n",
      "unity\n",
      "compiz-1\n",
      "ubuntu-amazon-default\n"
     ]
    }
   ],
   "source": [
    "from pathlib import Path\n",
    "dirPath = Path('.config')\n",
    "for i in dirPath.iterdir():\n",
    "    if i.is_dir():\n",
    "        print(i.name)"
   ]
  },
  {
   "cell_type": "markdown",
   "metadata": {},
   "source": [
    "### create a Single directory"
   ]
  },
  {
   "cell_type": "code",
   "execution_count": 31,
   "metadata": {},
   "outputs": [],
   "source": [
    "import os\n",
    "os.mkdir('Single Directory')"
   ]
  },
  {
   "cell_type": "code",
   "execution_count": 33,
   "metadata": {},
   "outputs": [],
   "source": [
    "import pathlib\n",
    "p = pathlib.Path('TestFolder')\n",
    "p.mkdir()"
   ]
  },
  {
   "cell_type": "code",
   "execution_count": 34,
   "metadata": {},
   "outputs": [
    {
     "name": "stdout",
     "output_type": "stream",
     "text": [
      "05-07-2019.ipynb                 \u001b[0m\u001b[01;34mDocuments\u001b[0m/         \u001b[01;34mSingle Directory\u001b[0m/\r\n",
      "05-07-2019(@).ipynb              \u001b[01;34mDownloads\u001b[0m/         \u001b[01;34mTemplates\u001b[0m/\r\n",
      "06-07-2019.ipynb                 examples.desktop   \u001b[01;34mTestFolder\u001b[0m/\r\n",
      "08-07-2019.ipynb                 file1.txt          untitled 5.ipynb\r\n",
      "09-07-2019 and 10-07-2019.ipynb  file2.txt          Untitled5.ipynb\r\n",
      "11-07-2019.ipynb                 \u001b[01;34mMusic\u001b[0m/             Untitled.ipynb\r\n",
      "11 july 2019.ipynb               \u001b[01;34mPictures\u001b[0m/          \u001b[01;34mVideos\u001b[0m/\r\n",
      "\u001b[01;34manaconda3\u001b[0m/                       \u001b[01;34mPublic\u001b[0m/\r\n",
      "\u001b[01;34mDesktop\u001b[0m/                         \u001b[01;34mSingle directory\u001b[0m/\r\n"
     ]
    }
   ],
   "source": [
    "ls\n"
   ]
  },
  {
   "cell_type": "markdown",
   "metadata": {},
   "source": [
    "### Creating a multiple directory"
   ]
  },
  {
   "cell_type": "code",
   "execution_count": 35,
   "metadata": {},
   "outputs": [],
   "source": [
    "import os \n",
    "os.makedirs('2019/july/11')"
   ]
  },
  {
   "cell_type": "code",
   "execution_count": 36,
   "metadata": {},
   "outputs": [
    {
     "name": "stdout",
     "output_type": "stream",
     "text": [
      "05-07-2019.ipynb                 \u001b[0m\u001b[01;34mDesktop\u001b[0m/          \u001b[01;34mSingle directory\u001b[0m/\r\n",
      "05-07-2019(@).ipynb              \u001b[01;34mDocuments\u001b[0m/        \u001b[01;34mSingle Directory\u001b[0m/\r\n",
      "06-07-2019.ipynb                 \u001b[01;34mDownloads\u001b[0m/        \u001b[01;34mTemplates\u001b[0m/\r\n",
      "08-07-2019.ipynb                 examples.desktop  \u001b[01;34mTestFolder\u001b[0m/\r\n",
      "09-07-2019 and 10-07-2019.ipynb  file1.txt         untitled 5.ipynb\r\n",
      "11-07-2019.ipynb                 file2.txt         Untitled5.ipynb\r\n",
      "11 july 2019.ipynb               \u001b[01;34mMusic\u001b[0m/            Untitled.ipynb\r\n",
      "\u001b[01;34m2019\u001b[0m/                            \u001b[01;34mPictures\u001b[0m/         \u001b[01;34mVideos\u001b[0m/\r\n",
      "\u001b[01;34manaconda3\u001b[0m/                       \u001b[01;34mPublic\u001b[0m/\r\n"
     ]
    }
   ],
   "source": [
    "ls\n"
   ]
  },
  {
   "cell_type": "markdown",
   "metadata": {},
   "source": [
    "### Filename matching patterns"
   ]
  },
  {
   "cell_type": "code",
   "execution_count": 37,
   "metadata": {},
   "outputs": [],
   "source": [
    "import os\n",
    "dirpath = '.config'\n",
    "for f_name in os.listdir(dirpath):\n",
    "    if f_name.startswith('0'):\n",
    "        print(f_name)"
   ]
  },
  {
   "cell_type": "code",
   "execution_count": 38,
   "metadata": {},
   "outputs": [
    {
     "name": "stdout",
     "output_type": "stream",
     "text": [
      "05-07-2019.ipynb                 \u001b[0m\u001b[01;34mDesktop\u001b[0m/          \u001b[01;34mSingle directory\u001b[0m/\r\n",
      "05-07-2019(@).ipynb              \u001b[01;34mDocuments\u001b[0m/        \u001b[01;34mSingle Directory\u001b[0m/\r\n",
      "06-07-2019.ipynb                 \u001b[01;34mDownloads\u001b[0m/        \u001b[01;34mTemplates\u001b[0m/\r\n",
      "08-07-2019.ipynb                 examples.desktop  \u001b[01;34mTestFolder\u001b[0m/\r\n",
      "09-07-2019 and 10-07-2019.ipynb  file1.txt         untitled 5.ipynb\r\n",
      "11-07-2019.ipynb                 file2.txt         Untitled5.ipynb\r\n",
      "11 july 2019.ipynb               \u001b[01;34mMusic\u001b[0m/            Untitled.ipynb\r\n",
      "\u001b[01;34m2019\u001b[0m/                            \u001b[01;34mPictures\u001b[0m/         \u001b[01;34mVideos\u001b[0m/\r\n",
      "\u001b[01;34manaconda3\u001b[0m/                       \u001b[01;34mPublic\u001b[0m/\r\n"
     ]
    }
   ],
   "source": [
    "ls\n"
   ]
  },
  {
   "cell_type": "code",
   "execution_count": 39,
   "metadata": {},
   "outputs": [],
   "source": [
    "import shutil\n",
    "data_dir = '2019'\n",
    "shutil.rmtree(data_dir)"
   ]
  },
  {
   "cell_type": "code",
   "execution_count": null,
   "metadata": {},
   "outputs": [],
   "source": []
  }
 ],
 "metadata": {
  "kernelspec": {
   "display_name": "Python 3",
   "language": "python",
   "name": "python3"
  },
  "language_info": {
   "codemirror_mode": {
    "name": "ipython",
    "version": 3
   },
   "file_extension": ".py",
   "mimetype": "text/x-python",
   "name": "python",
   "nbconvert_exporter": "python",
   "pygments_lexer": "ipython3",
   "version": "3.7.3"
  }
 },
 "nbformat": 4,
 "nbformat_minor": 2
}
