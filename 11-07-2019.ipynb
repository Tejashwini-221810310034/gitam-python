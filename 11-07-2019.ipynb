{
 "cells": [
  {
   "cell_type": "markdown",
   "metadata": {},
   "source": [
    "### Standard Libraries\n",
    "- File I/O\n",
    "- Regular Expressions\n",
    "- Date time\n",
    "- Math(numerical and mathematical)"
   ]
  },
  {
   "cell_type": "markdown",
   "metadata": {},
   "source": [
    "### File Handling in Python\n",
    "- File :- Document containing information resides on the permanent storage\n",
    "- Different types of files :- txt,doc,pdf,csv and etc....\n",
    "- Input -- Keyboard\n",
    "- Output -- File\n",
    "### Modes of the File I/O\n",
    "- 'W' -- This mode is used to file writing\n",
    "        -- If the file is not present first it creates the file and write the data to it\n",
    "        -- If the file is already present then it will rewrite the previous content"
   ]
  },
  {
   "cell_type": "code",
   "execution_count": 2,
   "metadata": {},
   "outputs": [
    {
     "name": "stdout",
     "output_type": "stream",
     "text": [
      "File is created and data has written\n",
      "File is created and data has written\n",
      "File is created and data has written\n",
      "File is created and data has written\n",
      "File is created and data has written\n",
      "File is created and data has written\n",
      "File is created and data has written\n",
      "File is created and data has written\n",
      "File is created and data has written\n",
      "File is created and data has written\n"
     ]
    }
   ],
   "source": [
    "# Function to create file and write to the file\n",
    "def createfile(filename):\n",
    "    f = open(filename,'w')\n",
    "    for i in range(10):\n",
    "        f.write(\"This is % line\" % i)\n",
    "        print(\"File is created and data has written\")\n",
    "    return\n",
    "createfile(\"file1.txt\")"
   ]
  },
  {
   "cell_type": "code",
   "execution_count": 3,
   "metadata": {},
   "outputs": [
    {
     "name": "stdout",
     "output_type": "stream",
     "text": [
      "09-07-2019 and 10-07-2019.ipynb  file1.txt        Untitled3.ipynb\r\n",
      "11-07-2019.ipynb                 \u001b[0m\u001b[01;34mMusic\u001b[0m/           Untitled4.ipynb\r\n",
      "\u001b[01;34manaconda3\u001b[0m/                       \u001b[01;34mPictures\u001b[0m/        untitled 5.ipynb\r\n",
      "\u001b[01;34mDesktop\u001b[0m/                         \u001b[01;34mPublic\u001b[0m/          Untitled5.ipynb\r\n",
      "\u001b[01;34mDocuments\u001b[0m/                       \u001b[01;34mTemplates\u001b[0m/       Untitled.ipynb\r\n",
      "\u001b[01;34mDownloads\u001b[0m/                       Untitled1.ipynb  \u001b[01;34mVideos\u001b[0m/\r\n",
      "examples.desktop                 Untitled2.ipynb\r\n"
     ]
    }
   ],
   "source": [
    "ls\n"
   ]
  },
  {
   "cell_type": "code",
   "execution_count": 5,
   "metadata": {},
   "outputs": [
    {
     "name": "stdout",
     "output_type": "stream",
     "text": [
      "File is created and data has written\n"
     ]
    }
   ],
   "source": [
    "def createfile(filename):\n",
    "    f = open(filename,'w')\n",
    "    f.write('Testing...\\n')\n",
    "    print(\"File is created and data has written\")\n",
    "    return\n",
    "createfile('file1.txt')"
   ]
  },
  {
   "cell_type": "code",
   "execution_count": 6,
   "metadata": {},
   "outputs": [
    {
     "name": "stdout",
     "output_type": "stream",
     "text": [
      "File created and successfully data written\n"
     ]
    }
   ],
   "source": [
    "def appenddata(filename):\n",
    "    f = open(filename,'a')\n",
    "    for i in range(10):\n",
    "        f.write(\"This is %d Line\\n\" % i)\n",
    "    print(\"File created and successfully data written\") \n",
    "    return\n",
    "appenddata(\"file2.txt\")"
   ]
  },
  {
   "cell_type": "code",
   "execution_count": 7,
   "metadata": {},
   "outputs": [
    {
     "name": "stdout",
     "output_type": "stream",
     "text": [
      "File created and successfully data written\n"
     ]
    }
   ],
   "source": [
    "def appenddata(filename):\n",
    "    f = open(filename,'a') \n",
    "    f.write(\"New line1\\n\")\n",
    "    f.write(\"New line2\\n\")\n",
    "    print(\"File created and successfully data written\") \n",
    "    return\n",
    "appenddata(\"file2.txt\")\n",
    "    "
   ]
  },
  {
   "cell_type": "code",
   "execution_count": 8,
   "metadata": {},
   "outputs": [
    {
     "name": "stdout",
     "output_type": "stream",
     "text": [
      "This is 0 Line\n",
      "This is 1 Line\n",
      "This is 2 Line\n",
      "This is 3 Line\n",
      "This is 4 Line\n",
      "This is 5 Line\n",
      "This is 6 Line\n",
      "This is 7 Line\n",
      "This is 8 Line\n",
      "This is 9 Line\n",
      "New line1\n",
      "New line2\n",
      "\n"
     ]
    }
   ],
   "source": [
    "# Function to read the file\n",
    "def readfiledata(filename):\n",
    "    f = open(filename,'r')\n",
    "    if f.mode == 'r':\n",
    "        x = f.read()\n",
    "        print(x)\n",
    "    f.close()\n",
    "    return\n",
    "readfiledata(\"file2.txt\")"
   ]
  },
  {
   "cell_type": "code",
   "execution_count": 14,
   "metadata": {},
   "outputs": [
    {
     "name": "stdout",
     "output_type": "stream",
     "text": [
      "Enter the file namefile2.txt\n",
      "Enter the mode of the filer\n",
      "This is 0 Line\n",
      "This is 1 Line\n",
      "This is 2 Line\n",
      "This is 3 Line\n",
      "This is 4 Line\n",
      "This is 5 Line\n",
      "This is 6 Line\n",
      "This is 7 Line\n",
      "This is 8 Line\n",
      "This is 9 Line\n",
      "New line1\n",
      "New line2\n",
      "\n"
     ]
    }
   ],
   "source": [
    "def fileoperations(filename,mode):\n",
    "    with open (filename,mode) as f:\n",
    "        if f.mode == 'r':\n",
    "            data = f.read()\n",
    "            print(data)  \n",
    "        elif f.mode == \"a\":\n",
    "            f.write(\"Data to the file\")\n",
    "            print(\"The data successfully written\")\n",
    "    f.close()\n",
    "    return\n",
    "filename = input('Enter the file name')\n",
    "mode = input('Enter the mode of the file')\n",
    "fileoperations(filename,mode)\n"
   ]
  },
  {
   "cell_type": "code",
   "execution_count": null,
   "metadata": {},
   "outputs": [],
   "source": [
    "# Data analysis\n",
    "# word count program\n",
    "def wordcount(filename,word):\n",
    "    with open(filename,'r') as f:\n",
    "        if f.mode == 'r':\n",
    "             x = f.read()\n",
    "             li = x.split()\n",
    "    cnt = li.count(word)\n",
    "    return cnt\n",
    "filename = input('enter the file name:')\n",
    "word = input('enter the word:')\n",
    "wordcount(filename,word)"
   ]
  },
  {
   "cell_type": "code",
   "execution_count": null,
   "metadata": {},
   "outputs": [],
   "source": []
  },
  {
   "cell_type": "code",
   "execution_count": null,
   "metadata": {},
   "outputs": [],
   "source": []
  },
  {
   "cell_type": "code",
   "execution_count": null,
   "metadata": {},
   "outputs": [],
   "source": []
  }
 ],
 "metadata": {
  "kernelspec": {
   "display_name": "Python 3",
   "language": "python",
   "name": "python3"
  },
  "language_info": {
   "codemirror_mode": {
    "name": "ipython",
    "version": 3
   },
   "file_extension": ".py",
   "mimetype": "text/x-python",
   "name": "python",
   "nbconvert_exporter": "python",
   "pygments_lexer": "ipython3",
   "version": "3.7.3"
  }
 },
 "nbformat": 4,
 "nbformat_minor": 2
}
