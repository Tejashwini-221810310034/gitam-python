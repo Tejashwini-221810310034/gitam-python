{
 "cells": [
  {
   "cell_type": "code",
   "execution_count": 1,
   "metadata": {},
   "outputs": [
    {
     "data": {
      "text/plain": [
       "16"
      ]
     },
     "execution_count": 1,
     "metadata": {},
     "output_type": "execute_result"
    }
   ],
   "source": [
    "# function to return the sum of digits in a given string\n",
    "#example\n",
    "#Input : applicat8ion89\n",
    "#output : 16(8+8) \n",
    "def sumofevendigits(str):\n",
    "        sum = 0\n",
    "        for x in range(len(str)):\n",
    "            if ord(str[x]) >= 48 and ord(str[x]) <=57:\n",
    "                if (ord(str[x])-48) % 2 == 0:\n",
    "                    sum = sum + (ord(str[x])-48)\n",
    "        return sum\n",
    "sumofevendigits('applicat8ion89')"
   ]
  },
  {
   "cell_type": "code",
   "execution_count": 15,
   "metadata": {},
   "outputs": [
    {
     "name": "stdout",
     "output_type": "stream",
     "text": [
      "8 8 9 "
     ]
    }
   ],
   "source": [
    "# extract digits from string\n",
    "#example\n",
    "#Input : applicat8ion89\n",
    "#output : 1 8 8 9\n",
    "def extractdigits(str):\n",
    "    for x in range(len(str)):\n",
    "        if ord(str[x]) >= 48 and ord(str[x]) <= 57:\n",
    "            print(str[x],end = \" \")\n",
    "    return \n",
    "extractdigits(\"applicat8ion89\")\n"
   ]
  },
  {
   "cell_type": "code",
   "execution_count": 31,
   "metadata": {},
   "outputs": [
    {
     "name": "stdout",
     "output_type": "stream",
     "text": [
      "MADE"
     ]
    }
   ],
   "source": [
    "# function to print the specific word in upper case\n",
    "#example :\n",
    "#input : python made easy\n",
    "#output : MADE\n",
    "#input : learn python programming\n",
    "#output : PYTHON\n",
    "def worduppercase(s):\n",
    "    spaceCnt = 0\n",
    "    for x in range(len(s)):\n",
    "        if ord(s[x]) == 32:\n",
    "            spaceCnt += 1 # spaceCnt = spaceCnt + 1\n",
    "        if spaceCnt == 1:\n",
    "            if ord(s[x]) >=65 and ord(s[x]) <= 90:\n",
    "                print(s[x],end=\"\")\n",
    "            elif ord(s[x]) >= 97 and ord(s[x]) <= 122:\n",
    "                 print(chr(ord(s[x])-32),end=\"\")\n",
    "        if spaceCnt == 2:\n",
    "            break\n",
    "    return\n",
    "worduppercase('Python Made Easy') # MADE\n"
   ]
  },
  {
   "cell_type": "code",
   "execution_count": null,
   "metadata": {},
   "outputs": [],
   "source": []
  },
  {
   "cell_type": "code",
   "execution_count": null,
   "metadata": {},
   "outputs": [],
   "source": []
  }
 ],
 "metadata": {
  "kernelspec": {
   "display_name": "Python 3",
   "language": "python",
   "name": "python3"
  },
  "language_info": {
   "codemirror_mode": {
    "name": "ipython",
    "version": 3
   },
   "file_extension": ".py",
   "mimetype": "text/x-python",
   "name": "python",
   "nbconvert_exporter": "python",
   "pygments_lexer": "ipython3",
   "version": "3.7.3"
  }
 },
 "nbformat": 4,
 "nbformat_minor": 2
}
